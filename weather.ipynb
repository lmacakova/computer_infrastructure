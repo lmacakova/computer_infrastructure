{
 "cells": [
  {
   "cell_type": "markdown",
   "metadata": {},
   "source": [
    "# Weather - assesment tasks"
   ]
  },
  {
   "cell_type": "markdown",
   "metadata": {
    "vscode": {
     "languageId": "plaintext"
    }
   },
   "source": [
    "### Steps"
   ]
  },
  {
   "cell_type": "markdown",
   "metadata": {},
   "source": [
    "##### Task 1: Create Directory Structure\n",
    "I opened the codespace of my repository called computer infrastructure and with command mkdir I created a directory called data at the root of the repository. Inside of directory data, I created 2 subdirectories called timestamps and weather with command mkdir."
   ]
  },
  {
   "cell_type": "markdown",
   "metadata": {
    "vscode": {
     "languageId": "plaintext"
    }
   },
   "source": [
    "##### Task 2: Timestamps\n",
    " In the data/timestamps directory, I created file now.txt with command date >> now.txt. I repeated this step 10 times. Then I checked content of file now.txt with command more. I got 11 timestamps in the file now.txt."
   ]
  },
  {
   "cell_type": "markdown",
   "metadata": {
    "vscode": {
     "languageId": "plaintext"
    }
   },
   "source": [
    "##### Task 3: Formatting Timestamps\n",
    "With command date +\"%Y%m%d_%H%M%S\" >> formatted.txt, I created file formatted.txt containing timestamp in required format of YYYYmmdd_HHMMSS."
   ]
  },
  {
   "cell_type": "markdown",
   "metadata": {},
   "source": [
    "##### Task 4: Create Timestamped Files\n",
    "With command touch `date +\"%Y%m%d_%H%M%S\".txt `, I created a file called 20241108_120500.txt"
   ]
  },
  {
   "cell_type": "markdown",
   "metadata": {
    "vscode": {
     "languageId": "plaintext"
    }
   },
   "source": [
    "##### Task 5: Download Today's Weather Data\n",
    "With command wget -O weather.json https://prodapi.metweb.ie/observations/athenry/today, I downloaded weather data for the Athenry weather station from Met Eireann.\n",
    "\n"
   ]
  },
  {
   "cell_type": "markdown",
   "metadata": {
    "vscode": {
     "languageId": "plaintext"
    }
   },
   "source": [
    "##### Task 6: Timestamp the Data\n",
    "I modified command from task 6 as - wget -O data/weather/`date +\"%Y%m%d_%H%M%S_Athenry.json\"` https://prodapi.metweb.ie/observations/athenry/today - to download current weather data with timestamp as a name of file. "
   ]
  },
  {
   "cell_type": "markdown",
   "metadata": {
    "vscode": {
     "languageId": "plaintext"
    }
   },
   "source": [
    "##### Task 7: Write the Script\n",
    "I wrote script called weather.sh, at the root of my repository:\n",
    "\n",
    "#! /bin/bash\n",
    "\n",
    "wget -O data/weather/`date +\"%Y%m%d_%H%M%S_Athenry.json\"` https://prodapi.metweb.ie/observations/athenry/today\n",
    "\n",
    "This script automates process from Task 6. I made the script executable with command chmod u+x ./weather.sh."
   ]
  },
  {
   "cell_type": "markdown",
   "metadata": {
    "vscode": {
     "languageId": "plaintext"
    }
   },
   "source": [
    "##### Task 8: Notebook\n",
    "In paragraphs above is the short explanation of how tasks from 1 to 7 were completed.\n",
    "I used these commands:\n",
    "- mkdir - for creating folders\n",
    "- touch for creating files\n",
    "- date\n",
    "- wget\n",
    "- more\n",
    "- man\n",
    "- pwd, ls, cd to move among folders and files"
   ]
  }
 ],
 "metadata": {
  "language_info": {
   "name": "python"
  }
 },
 "nbformat": 4,
 "nbformat_minor": 2
}
