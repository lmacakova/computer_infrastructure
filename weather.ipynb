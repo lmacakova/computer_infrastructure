{
 "cells": [
  {
   "cell_type": "markdown",
   "metadata": {},
   "source": [
    "# Weather - assesment tasks"
   ]
  },
  {
   "cell_type": "markdown",
   "metadata": {
    "vscode": {
     "languageId": "plaintext"
    }
   },
   "source": [
    "### Steps"
   ]
  },
  {
   "cell_type": "markdown",
   "metadata": {},
   "source": [
    "Task 1: I opened the codespace of my repository called computer infrastructure and with command mkdir I created a directory called data at the root of the repository. Inside of directory data, I created 2 subdirectories called timestamps and weather with command mkdir."
   ]
  },
  {
   "cell_type": "markdown",
   "metadata": {
    "vscode": {
     "languageId": "plaintext"
    }
   },
   "source": [
    "Task 2: In the data/timestamps directory, I created file now.txt with command date +\"%Y%m%d_%H%M%S\" >> now.txt. I repeated this step 10 times. Then I checked content of file now.txt with command more. I got 11 dates in recommended format in the file now.txt."
   ]
  },
  {
   "cell_type": "markdown",
   "metadata": {
    "vscode": {
     "languageId": "plaintext"
    }
   },
   "source": [
    "Task 3: \n"
   ]
  }
 ],
 "metadata": {
  "language_info": {
   "name": "python"
  }
 },
 "nbformat": 4,
 "nbformat_minor": 2
}
